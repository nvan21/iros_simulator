{
 "cells": [
  {
   "cell_type": "code",
   "execution_count": 1,
   "metadata": {},
   "outputs": [
    {
     "name": "stdout",
     "output_type": "stream",
     "text": [
      "SHELL: /bin/bash\n",
      "SLURM_JOB_USER: nvan21\n",
      "SLURM_TASKS_PER_NODE: 4\n",
      "SLURM_JOB_UID: 434058\n",
      "HISTCONTROL: ignoredups\n",
      "SLURM_TASK_PID: 1087574\n",
      "CONDA_EXE: /work/flemingc/nvan21/miniconda3/bin/conda\n",
      "_CE_M: \n",
      "SLURM_JOB_GPUS: 2\n",
      "SLURM_LOCALID: 0\n",
      "SLURM_SUBMIT_DIR: /work/flemingc/nvan21/projects\n",
      "HOSTNAME: nova22-gpu-5\n",
      "HISTSIZE: 1000\n",
      "SLURMD_NODENAME: nova22-gpu-5\n",
      "SLURM_JOB_START_TIME: 1721318139\n",
      "HYDRA_LAUNCHER_EXTRA_ARGS: --external-launcher\n",
      "_ModuleTable002_: cy9Db3JlIiwKfSwKc3lzdGVtQmFzZU1QQVRIID0gIi9ldGMvbW9kdWxlZmlsZXM6L3Vzci9zaGFyZS9tb2R1bGVmaWxlczovdXNyL3NoYXJlL21vZHVsZWZpbGVzL0xpbnV4Oi91c3Ivc2hhcmUvbW9kdWxlZmlsZXMvQ29yZTovdXNyL3NoYXJlL2xtb2QvbG1vZC9tb2R1bGVmaWxlcy9Db3JlIiwKfQo=\n",
      "PTMPDIR: /mnt/job-temp/nvan21/5353820/ptmp\n",
      "__LMOD_REF_COUNT_MODULEPATH: /opt/rit/singularity/modules:2;/opt/rit/el9/current/modules/lmod/linux-rhel9-x86_64/Core:2;/opt/hpc/modulefiles:2;/etc/modulefiles:1;/usr/share/modulefiles:1;/usr/share/modulefiles/Linux:1;/usr/share/modulefiles/Core:1;/usr/share/lmod/lmod/modulefiles/Core:1\n",
      "SLURM_CLUSTER_NAME: nova\n",
      "SLURM_JOB_END_TIME: 1721346940\n",
      "SLURM_CPUS_ON_NODE: 8\n",
      "SLURM_JOB_CPUS_PER_NODE: 8\n",
      "LMOD_DIR: /usr/share/lmod/lmod/libexec\n",
      "SLURM_GPUS_ON_NODE: 1\n",
      "KRB5CCNAME: KEYRING:persistent:434058\n",
      "PWD: /work/flemingc/nvan21/projects\n",
      "PRTE_MCA_plm_slurm_args: --external-launcher\n",
      "SLURM_GTIDS: 0\n",
      "LOGNAME: nvan21\n",
      "XDG_SESSION_TYPE: tty\n",
      "CONDA_PREFIX: /work/flemingc/nvan21/miniconda3/envs/iros\n",
      "SLURM_JOB_PARTITION: interactive\n",
      "MODULESHOME: /usr/share/lmod/lmod\n",
      "MANPATH: /usr/share/lmod/lmod/share/man:\n",
      "SLURM_TRES_PER_TASK: cpu:2\n",
      "SLURM_JOB_NUM_NODES: 1\n",
      "SLURM_JOBID: 5353820\n",
      "I_MPI_HYDRA_BOOTSTRAP_EXEC_EXTRA_ARGS: --external-launcher\n",
      "SLURM_JOB_QOS: normal\n",
      "HOME: /home/nvan21\n",
      "_ModuleTable_Sz_: 2\n",
      "LANG: en_US.UTF-8\n",
      "LS_COLORS: rs=0:di=01;34:ln=01;36:mh=00:pi=40;33:so=01;35:do=01;35:bd=40;33;01:cd=40;33;01:or=40;31;01:mi=01;37;41:su=37;41:sg=30;43:ca=30;41:tw=30;42:ow=34;42:st=37;44:ex=01;32:*.tar=01;31:*.tgz=01;31:*.arc=01;31:*.arj=01;31:*.taz=01;31:*.lha=01;31:*.lz4=01;31:*.lzh=01;31:*.lzma=01;31:*.tlz=01;31:*.txz=01;31:*.tzo=01;31:*.t7z=01;31:*.zip=01;31:*.z=01;31:*.dz=01;31:*.gz=01;31:*.lrz=01;31:*.lz=01;31:*.lzo=01;31:*.xz=01;31:*.zst=01;31:*.tzst=01;31:*.bz2=01;31:*.bz=01;31:*.tbz=01;31:*.tbz2=01;31:*.tz=01;31:*.deb=01;31:*.rpm=01;31:*.jar=01;31:*.war=01;31:*.ear=01;31:*.sar=01;31:*.rar=01;31:*.alz=01;31:*.ace=01;31:*.zoo=01;31:*.cpio=01;31:*.7z=01;31:*.rz=01;31:*.cab=01;31:*.wim=01;31:*.swm=01;31:*.dwm=01;31:*.esd=01;31:*.jpg=01;35:*.jpeg=01;35:*.mjpg=01;35:*.mjpeg=01;35:*.gif=01;35:*.bmp=01;35:*.pbm=01;35:*.pgm=01;35:*.ppm=01;35:*.tga=01;35:*.xbm=01;35:*.xpm=01;35:*.tif=01;35:*.tiff=01;35:*.png=01;35:*.svg=01;35:*.svgz=01;35:*.mng=01;35:*.pcx=01;35:*.mov=01;35:*.mpg=01;35:*.mpeg=01;35:*.m2v=01;35:*.mkv=01;35:*.webm=01;35:*.webp=01;35:*.ogm=01;35:*.mp4=01;35:*.m4v=01;35:*.mp4v=01;35:*.vob=01;35:*.qt=01;35:*.nuv=01;35:*.wmv=01;35:*.asf=01;35:*.rm=01;35:*.rmvb=01;35:*.flc=01;35:*.avi=01;35:*.fli=01;35:*.flv=01;35:*.gl=01;35:*.dl=01;35:*.xcf=01;35:*.xwd=01;35:*.yuv=01;35:*.cgm=01;35:*.emf=01;35:*.ogv=01;35:*.ogx=01;35:*.aac=01;36:*.au=01;36:*.flac=01;36:*.m4a=01;36:*.mid=01;36:*.midi=01;36:*.mka=01;36:*.mp3=01;36:*.mpc=01;36:*.ogg=01;36:*.ra=01;36:*.wav=01;36:*.oga=01;36:*.opus=01;36:*.spx=01;36:*.xspf=01;36:\n",
      "SLURM_PROCID: 0\n",
      "SSL_CERT_DIR: /etc/pki/tls/certs\n",
      "LMOD_SETTARG_FULL_SUPPORT: no\n",
      "CONDA_PROMPT_MODIFIER: (iros) \n",
      "TMPDIR: /mnt/job-temp/nvan21/5353820\n",
      "SLURM_CPUS_PER_TASK: 2\n",
      "SLURM_NTASKS: 4\n",
      "SLURM_TOPOLOGY_ADDR: nova22-gpu-5\n",
      "LMOD_VERSION: 8.7.32\n",
      "SSH_CONNECTION: 10.48.73.155 65230 10.89.9.11 22\n",
      "SINGULARITY_TMPDIR: /mnt/job-temp/nvan21/5353820\n",
      "HYDRA_BOOTSTRAP: slurm\n",
      "MODULEPATH_ROOT: /usr/share/modulefiles\n",
      "CUDA_VISIBLE_DEVICES: 0\n",
      "SLURM_TOPOLOGY_ADDR_PATTERN: node\n",
      "XDG_SESSION_CLASS: user\n",
      "LMOD_PKG: /usr/share/lmod/lmod\n",
      "SLURM_SCRIPT_CONTEXT: prolog_task\n",
      "SLURM_MEM_PER_NODE: 8192\n",
      "SELINUX_ROLE_REQUESTED: \n",
      "TERM: xterm-color\n",
      "_CE_CONDA: \n",
      "LESSOPEN: ||/usr/bin/lesspipe.sh %s\n",
      "USER: nvan21\n",
      "SLURM_NODELIST: nova22-gpu-5\n",
      "ENVIRONMENT: BATCH\n",
      "CONDA_SHLVL: 2\n",
      "SLURM_JOB_ACCOUNT: flemingc\n",
      "SELINUX_USE_CURRENT_RANGE: \n",
      "SLURM_PRIO_PROCESS: 0\n",
      "SLURM_NPROCS: 4\n",
      "LMOD_ROOT: /usr/share/lmod\n",
      "SHLVL: 3\n",
      "SLURM_NNODES: 1\n",
      "BASH_ENV: /usr/share/lmod/lmod/init/bash\n",
      "LMOD_sys: Linux\n",
      "XDG_SESSION_ID: 28202\n",
      "SLURM_SUBMIT_HOST: nova.its.iastate.edu\n",
      "_ModuleTable001_: X01vZHVsZVRhYmxlXyA9IHsKTVR2ZXJzaW9uID0gMywKY19yZWJ1aWxkVGltZSA9IGZhbHNlLApjX3Nob3J0VGltZSA9IGZhbHNlLApkZXB0aFQgPSB7fSwKZmFtaWx5ID0ge30sCm1UID0ge30sCm1wYXRoQSA9IHsKIi9vcHQvcml0L3Npbmd1bGFyaXR5L21vZHVsZXMiCiwgIi9vcHQvcml0L2VsOS9jdXJyZW50L21vZHVsZXMvbG1vZC9saW51eC1yaGVsOS14ODZfNjQvQ29yZSIKLCAiL29wdC9ocGMvbW9kdWxlZmlsZXMiLCAiL2V0Yy9tb2R1bGVmaWxlcyIsICIvdXNyL3NoYXJlL21vZHVsZWZpbGVzIgosICIvdXNyL3NoYXJlL21vZHVsZWZpbGVzL0xpbnV4IiwgIi91c3Ivc2hhcmUvbW9kdWxlZmlsZXMvQ29yZSIsICIvdXNyL3NoYXJlL2xtb2QvbG1vZC9tb2R1bGVmaWxl\n",
      "CONDA_PYTHON_EXE: /work/flemingc/nvan21/miniconda3/bin/python\n",
      "LD_LIBRARY_PATH: /usr/local/bin:/usr/bin:/usr/local/sbin:/usr/sbin:/usr/local/cuda/bin:/usr/local/cuda/lib64\n",
      "XDG_RUNTIME_DIR: /run/user/434058\n",
      "SLURM_JOB_ID: 5353820\n",
      "SSL_CERT_FILE: /etc/pki/ca-trust/extracted/pem/tls-ca-bundle.pem\n",
      "SLURM_NODEID: 0\n",
      "SSH_CLIENT: 10.48.73.155 65230 22\n",
      "CONDA_DEFAULT_ENV: iros\n",
      "which_declare: declare -f\n",
      "TMOUT: 5400\n",
      "XDG_DATA_DIRS: /home/nvan21/.local/share/flatpak/exports/share:/var/lib/flatpak/exports/share:/usr/local/share:/usr/share\n",
      "SLURM_CONF: /var/spool/slurmd/conf-cache/slurm.conf\n",
      "PATH: /work/flemingc/nvan21/miniconda3/envs/iros/bin:/home/nvan21/.vscode/cli/servers/Stable-89de5a8d4d6205e5b11647eb6a74844ca23d2573/server/bin/remote-cli:/work/flemingc/nvan21/miniconda3/envs/iros/bin:/work/flemingc/nvan21/miniconda3/condabin:/home/nvan21/.local/bin:/home/nvan21/bin:/usr/local/bin:/usr/bin:/usr/local/sbin:/usr/sbin:/usr/local/cuda/bin\n",
      "SELINUX_LEVEL_REQUESTED: \n",
      "SLURM_JOB_NAME: vscode-tunnel\n",
      "MODULEPATH: /opt/rit/singularity/modules:/opt/rit/el9/current/modules/lmod/linux-rhel9-x86_64/Core:/opt/hpc/modulefiles:/etc/modulefiles:/usr/share/modulefiles:/usr/share/modulefiles/Linux:/usr/share/modulefiles/Core:/usr/share/lmod/lmod/modulefiles/Core\n",
      "APPTAINER_TMPDIR: /mnt/job-temp/nvan21/5353820\n",
      "DBUS_SESSION_BUS_ADDRESS: unix:path=/run/user/434058/bus\n",
      "LMOD_CMD: /usr/share/lmod/lmod/libexec/lmod\n",
      "MAIL: /var/spool/mail/nvan21\n",
      "SSH_TTY: /dev/pts/156\n",
      "OMPI_MCA_plm_slurm_args: --external-launcher\n",
      "SLURM_JOB_GID: 101\n",
      "OLDPWD: /work/flemingc/nvan21/projects\n",
      "SLURM_JOB_NODELIST: nova22-gpu-5\n",
      "I_MPI_HYDRA_BOOTSTRAP: slurm\n",
      "BASH_FUNC_ml%%: () {  eval \"$($LMOD_DIR/ml_cmd \"$@\")\"\n",
      "}\n",
      "BASH_FUNC_which%%: () {  ( alias;\n",
      " eval ${which_declare} ) | /usr/bin/which --tty-only --read-alias --read-functions --show-tilde --show-dot $@\n",
      "}\n",
      "BASH_FUNC_module%%: () {  if [ -z \"${LMOD_SH_DBG_ON+x}\" ]; then\n",
      " case \"$-\" in \n",
      " *v*x*)\n",
      " __lmod_sh_dbg='vx'\n",
      " ;;\n",
      " *v*)\n",
      " __lmod_sh_dbg='v'\n",
      " ;;\n",
      " *x*)\n",
      " __lmod_sh_dbg='x'\n",
      " ;;\n",
      " esac;\n",
      " fi;\n",
      " if [ -n \"${__lmod_sh_dbg:-}\" ]; then\n",
      " set +$__lmod_sh_dbg;\n",
      " echo \"Shell debugging temporarily silenced: export LMOD_SH_DBG_ON=1 for Lmod's output\" 1>&2;\n",
      " fi;\n",
      " eval \"$($LMOD_CMD shell \"$@\")\" && eval \"$(${LMOD_SETTARG_CMD:-:} -s sh)\";\n",
      " __lmod_my_status=$?;\n",
      " if [ -n \"${__lmod_sh_dbg:-}\" ]; then\n",
      " echo \"Shell debugging restarted\" 1>&2;\n",
      " set -$__lmod_sh_dbg;\n",
      " fi;\n",
      " unset __lmod_sh_dbg;\n",
      " return $__lmod_my_status\n",
      "}\n",
      "_: /work/flemingc/nvan21/miniconda3/envs/iros/bin/python\n",
      "VSCODE_HANDLES_SIGPIPE: true\n",
      "VSCODE_AMD_ENTRYPOINT: vs/workbench/api/node/extensionHostProcess\n",
      "VSCODE_HANDLES_UNCAUGHT_ERRORS: true\n",
      "VSCODE_NLS_CONFIG: {\"locale\":\"en\",\"osLocale\":\"en\",\"availableLanguages\":{}}\n",
      "BROWSER: /home/nvan21/.vscode/cli/servers/Stable-89de5a8d4d6205e5b11647eb6a74844ca23d2573/server/bin/helpers/browser.sh\n",
      "VSCODE_CWD: /work/flemingc/nvan21/projects\n",
      "ELECTRON_RUN_AS_NODE: 1\n",
      "VSCODE_IPC_HOOK_CLI: /run/user/434058/vscode-ipc-b7afc24c-5040-4a5d-81d0-52fb21df69f4.sock\n",
      "VSCODE_L10N_BUNDLE_LOCATION: \n",
      "PYTHONUNBUFFERED: 1\n",
      "XML_CATALOG_FILES: file:///work/flemingc/nvan21/miniconda3/envs/iros/etc/xml/catalog file:///etc/xml/catalog\n",
      "GSETTINGS_SCHEMA_DIR: /work/flemingc/nvan21/miniconda3/envs/iros/share/glib-2.0/schemas\n",
      "CONDA_ROOT: /work/flemingc/nvan21/miniconda3\n",
      "GSETTINGS_SCHEMA_DIR_CONDA_BACKUP: \n",
      "PYTHONIOENCODING: utf-8\n",
      "CONDA_PREFIX_1: /work/flemingc/nvan21/miniconda3\n",
      "PYDEVD_IPYTHON_COMPATIBLE_DEBUGGING: 1\n",
      "PYTHON_FROZEN_MODULES: on\n",
      "PYDEVD_USE_FRAME_EVAL: NO\n",
      "CLICOLOR: 1\n",
      "FORCE_COLOR: 1\n",
      "CLICOLOR_FORCE: 1\n",
      "PAGER: cat\n",
      "GIT_PAGER: cat\n",
      "MPLBACKEND: module://matplotlib_inline.backend_inline\n"
     ]
    }
   ],
   "source": [
    "import torch\n",
    "import numpy as np\n",
    "import os\n",
    "for key, value in os.environ.items():\n",
    "    print(f\"{key}: {value}\")\n",
    "os.environ[\"LD_LIBRARY_PATH\"] = \"/usr/local/bin:/usr/bin:/usr/local/sbin:/usr/sbin:/usr/local/cuda/bin:/usr/local/cuda/lib64:/home/nvan21/.mujoco/mujoco210/bin\""
   ]
  },
  {
   "cell_type": "code",
   "execution_count": 3,
   "metadata": {},
   "outputs": [
    {
     "name": "stderr",
     "output_type": "stream",
     "text": [
      "Warning: Gym version v0.24.1 has a number of critical issues with `gym.make` such that environment observation and action spaces are incorrectly evaluated, raising incorrect errors and warning . It is recommend to downgrading to v0.23.1 or upgrading to v0.25.1\n",
      "/work/flemingc/nvan21/miniconda3/envs/iros/lib/python3.10/site-packages/Cython/Distutils/old_build_ext.py:14: DeprecationWarning: dep_util is Deprecated. Use functions from setuptools instead.\n",
      "  from distutils.dep_util import newer, newer_group\n"
     ]
    },
    {
     "ename": "Exception",
     "evalue": "\nMissing path to your environment variable. \nCurrent values LD_LIBRARY_PATH=$LD_LIBRARY_PATH:/home/nvan21/.mujoco/mujoco210/bin\nPlease add following line to .bashrc:\nexport LD_LIBRARY_PATH=$LD_LIBRARY_PATH:/usr/lib/nvidia",
     "output_type": "error",
     "traceback": [
      "\u001b[0;31m---------------------------------------------------------------------------\u001b[0m",
      "\u001b[0;31mException\u001b[0m                                 Traceback (most recent call last)",
      "Cell \u001b[0;32mIn[3], line 1\u001b[0m\n\u001b[0;32m----> 1\u001b[0m \u001b[38;5;28;01mimport\u001b[39;00m \u001b[38;5;21;01miql_utils\u001b[39;00m\n\u001b[1;32m      2\u001b[0m \u001b[38;5;28;01mfrom\u001b[39;00m \u001b[38;5;21;01miql_utils\u001b[39;00m \u001b[38;5;28;01mimport\u001b[39;00m TrainConfig \u001b[38;5;28;01mas\u001b[39;00m TrainConfig\n",
      "File \u001b[0;32m/work/flemingc/nvan21/projects/iros_simulator/IQL/iql_utils.py:9\u001b[0m\n\u001b[1;32m      6\u001b[0m \u001b[38;5;28;01mfrom\u001b[39;00m \u001b[38;5;21;01mpathlib\u001b[39;00m \u001b[38;5;28;01mimport\u001b[39;00m Path\n\u001b[1;32m      7\u001b[0m \u001b[38;5;28;01mfrom\u001b[39;00m \u001b[38;5;21;01mtyping\u001b[39;00m \u001b[38;5;28;01mimport\u001b[39;00m Any, Callable, Dict, List, Optional, Tuple, Union\n\u001b[0;32m----> 9\u001b[0m \u001b[38;5;28;01mimport\u001b[39;00m \u001b[38;5;21;01md4rl\u001b[39;00m\n\u001b[1;32m     10\u001b[0m \u001b[38;5;28;01mimport\u001b[39;00m \u001b[38;5;21;01mgym\u001b[39;00m\n\u001b[1;32m     11\u001b[0m \u001b[38;5;28;01mimport\u001b[39;00m \u001b[38;5;21;01mnumpy\u001b[39;00m \u001b[38;5;28;01mas\u001b[39;00m \u001b[38;5;21;01mnp\u001b[39;00m\n",
      "File \u001b[0;32m/work/flemingc/nvan21/miniconda3/envs/iros/lib/python3.10/site-packages/d4rl/__init__.py:14\u001b[0m\n\u001b[1;32m     11\u001b[0m _ERROR_MESSAGE \u001b[38;5;241m=\u001b[39m \u001b[38;5;124m'\u001b[39m\u001b[38;5;124mWarning: \u001b[39m\u001b[38;5;132;01m%s\u001b[39;00m\u001b[38;5;124m failed to import. Set the environment variable D4RL_SUPPRESS_IMPORT_ERROR=1 to suppress this message.\u001b[39m\u001b[38;5;124m'\u001b[39m\n\u001b[1;32m     13\u001b[0m \u001b[38;5;28;01mtry\u001b[39;00m:\n\u001b[0;32m---> 14\u001b[0m     \u001b[38;5;28;01mimport\u001b[39;00m \u001b[38;5;21;01md4rl\u001b[39;00m\u001b[38;5;21;01m.\u001b[39;00m\u001b[38;5;21;01mlocomotion\u001b[39;00m\n\u001b[1;32m     15\u001b[0m     \u001b[38;5;28;01mimport\u001b[39;00m \u001b[38;5;21;01md4rl\u001b[39;00m\u001b[38;5;21;01m.\u001b[39;00m\u001b[38;5;21;01mhand_manipulation_suite\u001b[39;00m\n\u001b[1;32m     16\u001b[0m     \u001b[38;5;28;01mimport\u001b[39;00m \u001b[38;5;21;01md4rl\u001b[39;00m\u001b[38;5;21;01m.\u001b[39;00m\u001b[38;5;21;01mpointmaze\u001b[39;00m\n",
      "File \u001b[0;32m/work/flemingc/nvan21/miniconda3/envs/iros/lib/python3.10/site-packages/d4rl/locomotion/__init__.py:2\u001b[0m\n\u001b[1;32m      1\u001b[0m \u001b[38;5;28;01mfrom\u001b[39;00m \u001b[38;5;21;01mgym\u001b[39;00m\u001b[38;5;21;01m.\u001b[39;00m\u001b[38;5;21;01menvs\u001b[39;00m\u001b[38;5;21;01m.\u001b[39;00m\u001b[38;5;21;01mregistration\u001b[39;00m \u001b[38;5;28;01mimport\u001b[39;00m register\n\u001b[0;32m----> 2\u001b[0m \u001b[38;5;28;01mfrom\u001b[39;00m \u001b[38;5;21;01md4rl\u001b[39;00m\u001b[38;5;21;01m.\u001b[39;00m\u001b[38;5;21;01mlocomotion\u001b[39;00m \u001b[38;5;28;01mimport\u001b[39;00m ant\n\u001b[1;32m      3\u001b[0m \u001b[38;5;28;01mfrom\u001b[39;00m \u001b[38;5;21;01md4rl\u001b[39;00m\u001b[38;5;21;01m.\u001b[39;00m\u001b[38;5;21;01mlocomotion\u001b[39;00m \u001b[38;5;28;01mimport\u001b[39;00m maze_env\n\u001b[1;32m      5\u001b[0m \u001b[38;5;124;03m\"\"\"\u001b[39;00m\n\u001b[1;32m      6\u001b[0m \u001b[38;5;124;03mregister(\u001b[39;00m\n\u001b[1;32m      7\u001b[0m \u001b[38;5;124;03m    id='antmaze-umaze-v0',\u001b[39;00m\n\u001b[0;32m   (...)\u001b[0m\n\u001b[1;32m     20\u001b[0m \u001b[38;5;124;03m)\u001b[39;00m\n\u001b[1;32m     21\u001b[0m \u001b[38;5;124;03m\"\"\"\u001b[39;00m\n",
      "File \u001b[0;32m/work/flemingc/nvan21/miniconda3/envs/iros/lib/python3.10/site-packages/d4rl/locomotion/ant.py:20\u001b[0m\n\u001b[1;32m     18\u001b[0m \u001b[38;5;28;01mimport\u001b[39;00m \u001b[38;5;21;01mmath\u001b[39;00m\n\u001b[1;32m     19\u001b[0m \u001b[38;5;28;01mimport\u001b[39;00m \u001b[38;5;21;01mnumpy\u001b[39;00m \u001b[38;5;28;01mas\u001b[39;00m \u001b[38;5;21;01mnp\u001b[39;00m\n\u001b[0;32m---> 20\u001b[0m \u001b[38;5;28;01mimport\u001b[39;00m \u001b[38;5;21;01mmujoco_py\u001b[39;00m\n\u001b[1;32m     21\u001b[0m \u001b[38;5;28;01mimport\u001b[39;00m \u001b[38;5;21;01mos\u001b[39;00m\n\u001b[1;32m     23\u001b[0m \u001b[38;5;28;01mfrom\u001b[39;00m \u001b[38;5;21;01mgym\u001b[39;00m \u001b[38;5;28;01mimport\u001b[39;00m utils\n",
      "File \u001b[0;32m/work/flemingc/nvan21/miniconda3/envs/iros/lib/python3.10/site-packages/mujoco_py/__init__.py:2\u001b[0m\n\u001b[1;32m      1\u001b[0m \u001b[38;5;66;03m#!/usr/bin/env python\u001b[39;00m\n\u001b[0;32m----> 2\u001b[0m \u001b[38;5;28;01mfrom\u001b[39;00m \u001b[38;5;21;01mmujoco_py\u001b[39;00m\u001b[38;5;21;01m.\u001b[39;00m\u001b[38;5;21;01mbuilder\u001b[39;00m \u001b[38;5;28;01mimport\u001b[39;00m cymj, ignore_mujoco_warnings, functions, MujocoException\n\u001b[1;32m      3\u001b[0m \u001b[38;5;28;01mfrom\u001b[39;00m \u001b[38;5;21;01mmujoco_py\u001b[39;00m\u001b[38;5;21;01m.\u001b[39;00m\u001b[38;5;21;01mgenerated\u001b[39;00m \u001b[38;5;28;01mimport\u001b[39;00m const\n\u001b[1;32m      4\u001b[0m \u001b[38;5;28;01mfrom\u001b[39;00m \u001b[38;5;21;01mmujoco_py\u001b[39;00m\u001b[38;5;21;01m.\u001b[39;00m\u001b[38;5;21;01mmjrenderpool\u001b[39;00m \u001b[38;5;28;01mimport\u001b[39;00m MjRenderPool\n",
      "File \u001b[0;32m/work/flemingc/nvan21/miniconda3/envs/iros/lib/python3.10/site-packages/mujoco_py/builder.py:504\u001b[0m\n\u001b[1;32m    500\u001b[0m     \u001b[38;5;28;01mreturn\u001b[39;00m module\u001b[38;5;241m.\u001b[39mlib\u001b[38;5;241m.\u001b[39m__fun\n\u001b[1;32m    503\u001b[0m mujoco_path \u001b[38;5;241m=\u001b[39m discover_mujoco()\n\u001b[0;32m--> 504\u001b[0m cymj \u001b[38;5;241m=\u001b[39m \u001b[43mload_cython_ext\u001b[49m\u001b[43m(\u001b[49m\u001b[43mmujoco_path\u001b[49m\u001b[43m)\u001b[49m\n\u001b[1;32m    507\u001b[0m \u001b[38;5;66;03m# Trick to expose all mj* functions from mujoco in mujoco_py.*\u001b[39;00m\n\u001b[1;32m    508\u001b[0m \u001b[38;5;28;01mclass\u001b[39;00m \u001b[38;5;21;01mdict2\u001b[39;00m(\u001b[38;5;28mobject\u001b[39m):\n",
      "File \u001b[0;32m/work/flemingc/nvan21/miniconda3/envs/iros/lib/python3.10/site-packages/mujoco_py/builder.py:76\u001b[0m, in \u001b[0;36mload_cython_ext\u001b[0;34m(mujoco_path)\u001b[0m\n\u001b[1;32m     74\u001b[0m _ensure_set_env_var(\u001b[38;5;124m\"\u001b[39m\u001b[38;5;124mLD_LIBRARY_PATH\u001b[39m\u001b[38;5;124m\"\u001b[39m, lib_path)\n\u001b[1;32m     75\u001b[0m \u001b[38;5;28;01mif\u001b[39;00m os\u001b[38;5;241m.\u001b[39mgetenv(\u001b[38;5;124m'\u001b[39m\u001b[38;5;124mMUJOCO_PY_FORCE_CPU\u001b[39m\u001b[38;5;124m'\u001b[39m) \u001b[38;5;129;01mis\u001b[39;00m \u001b[38;5;28;01mNone\u001b[39;00m \u001b[38;5;129;01mand\u001b[39;00m get_nvidia_lib_dir() \u001b[38;5;129;01mis\u001b[39;00m \u001b[38;5;129;01mnot\u001b[39;00m \u001b[38;5;28;01mNone\u001b[39;00m:\n\u001b[0;32m---> 76\u001b[0m     \u001b[43m_ensure_set_env_var\u001b[49m\u001b[43m(\u001b[49m\u001b[38;5;124;43m\"\u001b[39;49m\u001b[38;5;124;43mLD_LIBRARY_PATH\u001b[39;49m\u001b[38;5;124;43m\"\u001b[39;49m\u001b[43m,\u001b[49m\u001b[43m \u001b[49m\u001b[43mget_nvidia_lib_dir\u001b[49m\u001b[43m(\u001b[49m\u001b[43m)\u001b[49m\u001b[43m)\u001b[49m\n\u001b[1;32m     77\u001b[0m     Builder \u001b[38;5;241m=\u001b[39m LinuxGPUExtensionBuilder\n\u001b[1;32m     78\u001b[0m \u001b[38;5;28;01melse\u001b[39;00m:\n",
      "File \u001b[0;32m/work/flemingc/nvan21/miniconda3/envs/iros/lib/python3.10/site-packages/mujoco_py/builder.py:120\u001b[0m, in \u001b[0;36m_ensure_set_env_var\u001b[0;34m(var_name, lib_path)\u001b[0m\n\u001b[1;32m    118\u001b[0m paths \u001b[38;5;241m=\u001b[39m [os\u001b[38;5;241m.\u001b[39mpath\u001b[38;5;241m.\u001b[39mabspath(path) \u001b[38;5;28;01mfor\u001b[39;00m path \u001b[38;5;129;01min\u001b[39;00m paths]\n\u001b[1;32m    119\u001b[0m \u001b[38;5;28;01mif\u001b[39;00m lib_path \u001b[38;5;129;01mnot\u001b[39;00m \u001b[38;5;129;01min\u001b[39;00m paths:\n\u001b[0;32m--> 120\u001b[0m     \u001b[38;5;28;01mraise\u001b[39;00m \u001b[38;5;167;01mException\u001b[39;00m(\u001b[38;5;124m\"\u001b[39m\u001b[38;5;130;01m\\n\u001b[39;00m\u001b[38;5;124mMissing path to your environment variable. \u001b[39m\u001b[38;5;130;01m\\n\u001b[39;00m\u001b[38;5;124m\"\u001b[39m\n\u001b[1;32m    121\u001b[0m                     \u001b[38;5;124m\"\u001b[39m\u001b[38;5;124mCurrent values \u001b[39m\u001b[38;5;132;01m%s\u001b[39;00m\u001b[38;5;124m=\u001b[39m\u001b[38;5;132;01m%s\u001b[39;00m\u001b[38;5;130;01m\\n\u001b[39;00m\u001b[38;5;124m\"\u001b[39m\n\u001b[1;32m    122\u001b[0m                     \u001b[38;5;124m\"\u001b[39m\u001b[38;5;124mPlease add following line to .bashrc:\u001b[39m\u001b[38;5;130;01m\\n\u001b[39;00m\u001b[38;5;124m\"\u001b[39m\n\u001b[1;32m    123\u001b[0m                     \u001b[38;5;124m\"\u001b[39m\u001b[38;5;124mexport \u001b[39m\u001b[38;5;132;01m%s\u001b[39;00m\u001b[38;5;124m=$\u001b[39m\u001b[38;5;132;01m%s\u001b[39;00m\u001b[38;5;124m:\u001b[39m\u001b[38;5;132;01m%s\u001b[39;00m\u001b[38;5;124m\"\u001b[39m \u001b[38;5;241m%\u001b[39m (var_name, os\u001b[38;5;241m.\u001b[39menviron\u001b[38;5;241m.\u001b[39mget(var_name, \u001b[38;5;124m\"\u001b[39m\u001b[38;5;124m\"\u001b[39m),\n\u001b[1;32m    124\u001b[0m                                           var_name, var_name, lib_path))\n",
      "\u001b[0;31mException\u001b[0m: \nMissing path to your environment variable. \nCurrent values LD_LIBRARY_PATH=$LD_LIBRARY_PATH:/home/nvan21/.mujoco/mujoco210/bin\nPlease add following line to .bashrc:\nexport LD_LIBRARY_PATH=$LD_LIBRARY_PATH:/usr/lib/nvidia"
     ]
    }
   ],
   "source": [
    "import iql_utils\n",
    "from iql_utils import TrainConfig as TrainConfig"
   ]
  },
  {
   "cell_type": "code",
   "execution_count": 3,
   "metadata": {},
   "outputs": [],
   "source": [
    "model = iql_utils.GaussianPolicy(4, 2, max_action=float(4.99),)"
   ]
  },
  {
   "cell_type": "code",
   "execution_count": 4,
   "metadata": {},
   "outputs": [
    {
     "name": "stdout",
     "output_type": "stream",
     "text": [
      "device: cuda\n"
     ]
    }
   ],
   "source": [
    "device = 'cpu' if not torch.cuda.is_available() else 'cuda'\n",
    "print(f\"device: {device}\")"
   ]
  },
  {
   "cell_type": "code",
   "execution_count": null,
   "metadata": {},
   "outputs": [],
   "source": []
  },
  {
   "cell_type": "code",
   "execution_count": 5,
   "metadata": {},
   "outputs": [],
   "source": [
    "iql_all_models = torch.load('/home/prajwal/workfolder/CleanOfflineRL/CORL/iros_double_pendulum/iql_double-pendulum-sac-v2_500000_final.pt',\n",
    "                            map_location=torch.device(device))"
   ]
  },
  {
   "cell_type": "code",
   "execution_count": 6,
   "metadata": {},
   "outputs": [
    {
     "data": {
      "text/plain": [
       "GaussianPolicy(\n",
       "  (net): MLP(\n",
       "    (net): Sequential(\n",
       "      (0): Linear(in_features=4, out_features=256, bias=True)\n",
       "      (1): ReLU()\n",
       "      (2): Linear(in_features=256, out_features=256, bias=True)\n",
       "      (3): ReLU()\n",
       "      (4): Linear(in_features=256, out_features=2, bias=True)\n",
       "      (5): Tanh()\n",
       "    )\n",
       "  )\n",
       ")"
      ]
     },
     "execution_count": 6,
     "metadata": {},
     "output_type": "execute_result"
    }
   ],
   "source": [
    "model.load_state_dict(iql_all_models[\"state_dict\"][\"actor\"])\n",
    "state_mean = iql_all_models[\"state_mean\"]\n",
    "state_std = iql_all_models[\"state_std\"]\n",
    "model.to(device)\n",
    "model.eval()"
   ]
  },
  {
   "cell_type": "code",
   "execution_count": 8,
   "metadata": {},
   "outputs": [
    {
     "data": {
      "text/plain": [
       "(array([ 3.10138527e+00, -1.25685267e-01,  3.17212890e-01, -2.20910353e-03]),\n",
       " array([0.43561072, 0.38527233, 1.89671584, 2.06232309]))"
      ]
     },
     "execution_count": 8,
     "metadata": {},
     "output_type": "execute_result"
    }
   ],
   "source": [
    "state_mean, state_std"
   ]
  },
  {
   "cell_type": "code",
   "execution_count": null,
   "metadata": {},
   "outputs": [],
   "source": []
  },
  {
   "cell_type": "code",
   "execution_count": 7,
   "metadata": {},
   "outputs": [
    {
     "name": "stdout",
     "output_type": "stream",
     "text": [
      "[-6.89006299  0.84533781 -0.0090751   0.1950272 ]\n"
     ]
    }
   ],
   "source": [
    "\n",
    "obs = np.array([0.1, 0.2, 0.3, 0.4])\n",
    "obs = iql_utils.normalize_states(obs, state_mean, state_std)\n",
    "print(obs)"
   ]
  },
  {
   "cell_type": "code",
   "execution_count": 10,
   "metadata": {},
   "outputs": [
    {
     "data": {
      "text/plain": [
       "array([-1.2969251,  0.       ], dtype=float32)"
      ]
     },
     "execution_count": 10,
     "metadata": {},
     "output_type": "execute_result"
    }
   ],
   "source": [
    "model.act(obs, device=device)"
   ]
  },
  {
   "cell_type": "code",
   "execution_count": null,
   "metadata": {},
   "outputs": [],
   "source": []
  }
 ],
 "metadata": {
  "kernelspec": {
   "display_name": "Python 3",
   "language": "python",
   "name": "python3"
  },
  "language_info": {
   "codemirror_mode": {
    "name": "ipython",
    "version": 3
   },
   "file_extension": ".py",
   "mimetype": "text/x-python",
   "name": "python",
   "nbconvert_exporter": "python",
   "pygments_lexer": "ipython3",
   "version": "3.10.14"
  }
 },
 "nbformat": 4,
 "nbformat_minor": 2
}
